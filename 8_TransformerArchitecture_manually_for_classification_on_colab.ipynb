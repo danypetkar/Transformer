{
 "cells": [
  {
   "cell_type": "code",
   "execution_count": 1,
   "metadata": {
    "id": "9g2GDyLRiP4m"
   },
   "outputs": [],
   "source": [
    "#!pip install tensorflow==2.8.1"
   ]
  },
  {
   "cell_type": "code",
   "execution_count": 2,
   "metadata": {
    "colab": {
     "base_uri": "https://localhost:8080/"
    },
    "id": "7KIi8nMDX5U-",
    "outputId": "92c7c799-9a72-4b28-a343-60fd1cfa436c"
   },
   "outputs": [
    {
     "name": "stdout",
     "output_type": "stream",
     "text": [
      "  % Total    % Received % Xferd  Average Speed   Time    Time     Time  Current\n",
      "                                 Dload  Upload   Total   Spent    Left  Speed\n",
      "100 80.2M  100 80.2M    0     0  20.1M      0  0:00:03  0:00:03 --:--:-- 20.1M\n"
     ]
    }
   ],
   "source": [
    "!curl -O  https://ai.stanford.edu/~amaas/data/sentiment/aclImdb_v1.tar.gz"
   ]
  },
  {
   "cell_type": "code",
   "execution_count": 3,
   "metadata": {
    "id": "HEq08pFFYL3P"
   },
   "outputs": [],
   "source": [
    "!tar -xf aclImdb_v1.tar.gz"
   ]
  },
  {
   "cell_type": "code",
   "execution_count": 4,
   "metadata": {
    "id": "L6Zmw4WAYRUe"
   },
   "outputs": [],
   "source": [
    "!rm -r aclImdb/train/unsup/"
   ]
  },
  {
   "cell_type": "code",
   "execution_count": 5,
   "metadata": {
    "id": "udKCKKttYcZI"
   },
   "outputs": [],
   "source": [
    "import os\n",
    "import pathlib\n",
    "import shutil\n",
    "import random\n",
    "from tensorflow import keras"
   ]
  },
  {
   "cell_type": "code",
   "execution_count": 6,
   "metadata": {
    "id": "9rks7_3kYgkz"
   },
   "outputs": [],
   "source": [
    "batch_size = 32\n",
    "base_dir = pathlib.Path(\"aclImdb/\")\n",
    "val_dir = base_dir/\"val\"\n",
    "train_dir = base_dir/\"train\""
   ]
  },
  {
   "cell_type": "code",
   "execution_count": 7,
   "metadata": {
    "colab": {
     "base_uri": "https://localhost:8080/"
    },
    "id": "bIHDguf4Yjzj",
    "outputId": "aff56fa2-5973-4b80-d2c9-5b2ebe873919"
   },
   "outputs": [
    {
     "name": "stdout",
     "output_type": "stream",
     "text": [
      "aclImdb\n"
     ]
    }
   ],
   "source": [
    "print(base_dir)"
   ]
  },
  {
   "cell_type": "code",
   "execution_count": 8,
   "metadata": {
    "colab": {
     "base_uri": "https://localhost:8080/"
    },
    "id": "7de8HKhtYm1S",
    "outputId": "de03050a-c481-4f5a-c494-7167c915d4f6"
   },
   "outputs": [
    {
     "data": {
      "text/plain": [
       "PosixPath('aclImdb/val')"
      ]
     },
     "execution_count": 8,
     "metadata": {},
     "output_type": "execute_result"
    }
   ],
   "source": [
    "val_dir"
   ]
  },
  {
   "cell_type": "code",
   "execution_count": 9,
   "metadata": {
    "id": "jtlm0K8qYoyp"
   },
   "outputs": [],
   "source": [
    "for category in (\"neg\",\"pos\"):\n",
    "    os.makedirs(val_dir/category)\n",
    "    files = os.listdir(train_dir/category)\n",
    "    random.Random(1337).shuffle(files)\n",
    "    num_val_samples = int(0.2*len(files))\n",
    "    val_files = files[-num_val_samples:]\n",
    "    for fname in val_files:\n",
    "        shutil.move(\n",
    "           train_dir/category/fname,\n",
    "            val_dir/category/fname\n",
    "\n",
    "        )"
   ]
  },
  {
   "cell_type": "code",
   "execution_count": 10,
   "metadata": {
    "colab": {
     "base_uri": "https://localhost:8080/"
    },
    "id": "fms2r3JJYuFV",
    "outputId": "51e55f04-a3e3-43ef-d411-904eb0eebad8"
   },
   "outputs": [
    {
     "name": "stdout",
     "output_type": "stream",
     "text": [
      "Found 20000 files belonging to 2 classes.\n",
      "Found 5000 files belonging to 2 classes.\n",
      "Found 25000 files belonging to 2 classes.\n"
     ]
    }
   ],
   "source": [
    "train_ds = keras.utils.text_dataset_from_directory(\n",
    "    \"aclImdb/train\",batch_size = batch_size\n",
    ")\n",
    "val_ds = keras.utils.text_dataset_from_directory(\n",
    "    \"aclImdb/val\",batch_size = batch_size\n",
    ")\n",
    "test_ds = keras.utils.text_dataset_from_directory(\n",
    "    \"aclImdb/test\",batch_size = batch_size\n",
    ")"
   ]
  },
  {
   "cell_type": "code",
   "execution_count": 11,
   "metadata": {
    "id": "kqINkG6TYxav"
   },
   "outputs": [],
   "source": [
    "text_only_train_ds = train_ds.map(lambda x, y :x)"
   ]
  },
  {
   "cell_type": "code",
   "execution_count": 12,
   "metadata": {
    "colab": {
     "base_uri": "https://localhost:8080/"
    },
    "id": "D0Mj5ASAY2an",
    "outputId": "2c2460b2-0a5a-4b42-f37b-6242a7966a8f"
   },
   "outputs": [
    {
     "data": {
      "text/plain": [
       "<_PrefetchDataset element_spec=(TensorSpec(shape=(None,), dtype=tf.string, name=None), TensorSpec(shape=(None,), dtype=tf.int32, name=None))>"
      ]
     },
     "execution_count": 12,
     "metadata": {},
     "output_type": "execute_result"
    }
   ],
   "source": [
    "train_ds"
   ]
  },
  {
   "cell_type": "code",
   "execution_count": 13,
   "metadata": {
    "colab": {
     "base_uri": "https://localhost:8080/"
    },
    "id": "WPylL7RLZAMr",
    "outputId": "287214cd-b591-4834-f7fd-55d0697d02f4"
   },
   "outputs": [
    {
     "name": "stdout",
     "output_type": "stream",
     "text": [
      "tf.Tensor(\n",
      "[b'I think a great many viewers missed entirely the fact that this is obviously a parody of western films.<br /><br />This is not a bad movie - it is a clever tongue in cheek take on westerns. I don\\'t believe this film was taking itself seriously for a moment.<br /><br />What makes this film even more unique is the fact it is centered around 4 strong, beautiful women, two of which are black, one Asian, and a Mexican/Hispanic character.<br /><br />These aren\\'t your usual western women--they\\'re tough--they can draw fast and shoot straight.<br /><br />They\\'re so tough even the bartender is shaking when he pours their whiskey.<br /><br />The plot which moves this story along is typical of westerns--in the vein of \"you shot my brother--so I\\'m gonna get you!\" Only in this western, a woman\\'s sister has been shot and she\\'s out for vengeance on the gang who did it.<br /><br />So she goes and rounds up her old cronies from her bank robbing days.<br /><br />One of them, Maria, is not really all that interested in avenging Rachel\\'s sister, but she is motived by the fact there\\'s gold and jewelry hidden in the town where they\\'re headed.<br /><br />There are a couple of scenes that don\\'t quite make sense, not that they interfere that much, they can be ignored, but I wondered why they were there. So the film could use a little tightening, but over all, this is a well made film that has failed to find an audience that recognized what it is.<br /><br />My only disappointment was that the only lesbian in the film is a villain--of the \"heroines\", one is obviously straight, the others sexual orientations are never disclosed.<br /><br />7 Stars'\n",
      " b'\"Footlight Parade\" is fascinating on so many levels. There is no way the supposedly staged \"theater prologues\" could have been produced in any theater on earth, of course. Think of the huge pools and three-story tall fountains for \"By A Waterfall,\" for instance. (Berkeley directed John Garfield in \"They Made Me a Criminal\" six years later and had the Dead End Kids singing \"By a Waterfall\" as they took their showers.) <br /><br />\"Shanghai Lil\" is the best production number in the picture. It\\'s a catalog of \\'30s Warner Bros. sensibilities. Note the African guys mixed into the scene with white and Asian prostitutes. You would never see blacks integrated into a social scene in other films of the period unless they were porters on a train or maids in a big house. Here the black guys are sitting at the bar and singing with the others. I also get a thrill when the military dancers do a \"card section\" presentation of Roosevelt\\'s image. There\\'s also the NRA eagle--the logo of the controversial National Recovery Administration of the New Deal. FDR was the new president and hopes were so high that he\\'d pull the nation out of the Depression. You\\'d never see something so working class oriented coming out of MGM, of course. Warner Bros. wholeheartedly supported the uplift dictated by the F.D.R. administration. <br /><br />Dear little Miss Ruby Keeler was never better than she is playing the Chinese hooker, \"Lil.\" She hardly even watches her feet as she dances, which was one of her signature flaws. <br /><br />The Pre-Code stuff is fun. The \"By a Waterfall\" number is wonderful in that regard. The girls change into their bathing suits on the crowded bus speeding through Times Square with all its lights on. The spread-eagle girls swimming over the camera provide the kind of crotch shots that would not be seen for 35 years. In a few months the Production Code would eliminate such naughty pleasures.'\n",
      " b\"The unflappable William Powell. He is a joy to watch on the screen as he makes his way through situations without a care in the world. He always seems on top of his game and shows little care for anyone who doubts him. The murders are projects, barely human beings. I have noticed this is a staple of the whodunnit. Other than an occasional weeping widow, the victims fulfill the function of being the reason the movie exists. Nothing more. There are enough twists and turns to keep things interesting along the way and Powell is a master at this. There is a lot of political incorrectness, especially as it relates to the Asian performers. This is a little hard to take. The cast is great, and Curtiz's direction is also a consistent asset.\"\n",
      " b\"A great film requiring an acquired taste. If you're into action, wham bam films and hate serious love stories then its not for you. Otherwise, if you like to sit in front of a good intelligent movie now and again I recommend this very highly. Easily the best film produced in Bollywood this century.<br /><br />The only other Indian film I would give 10/10 for is Dil Wale Dulhaniya Le Jayenge. Even then it comes second to this masterpiece.\"\n",
      " b\"With Ralph Bakshi most of his films appear to be like two-edged swords. You'll get something awesome out of it but only if you put up with the silly and the unnecessarily cheezy. The Lord of the Rings was a great adaptation of the story which perhaps didn't always shine in the animation department.<br /><br />Fire and Ice is a great achievement from Bakshi from an animation point of view. The rotoscoping is a lot more detailed and the animation has a vibrant look to it. You still get some of the dull still-cells and slightly blurred background paintings but on the over-all the look has definitely gotten better since Bakshi's last fantasy epic. The animation has almost a realistic-naturalistic style to it, and unlike in LOTR where this style was often at odds with the actual content, here it enhances the film's unique atmosphere.<br /><br />Unfortunately the film fails to create a meaningful story out of its simple setting and in fact most of the characters' motivations are pretty blurred. Lorn and Tigra are easy cases but even the main villain Necron was difficult to follow not to mention That Guy with Furry Face Mask (also known as just 'That Guy'). Even though most of the voice actor's were appropriate, there are some odd quirks in the audio-department and Tigra especially sounds really terrible whenever she's screaming.<br /><br />However, I believe the film's inherent entertainment value outweighs its unnecessarily silly execution of the plot-line. The scant clad of the characters is something you'll never get over but it helps you remind yourself that perhaps this film isn't even intended to be taken too seriously. It's still a hella cool and really funny.\"\n",
      " b\"This movie is simply not worth the time or money spent. Full of clich\\xc3\\xa9s and a plot that makes absolutely no sense ! I cant believe that so many people have given this awful movie a 10. My guess is they are stooges of the movie maker. <br /><br />If I could give this movie a zero, I would. Too bad IMDb doesn't allow that. <br /><br />The only reason I watched it because I went with a friend who really wanted to see it. Whats sad is that I never had great expectations from this movie to begin with and yet I felt short changed. Take my word, don't waste your $8 on this piece of trash. The only entertainment I got out of the movie was making fun of the directors name. In all, highly NOT RECOMMENDED !\"\n",
      " b\"When the Bourne Identity arrived five years ago I have to confess that I didn't think much of it. At the time I was eleven years old, so perhaps I was too young to really get into the storyline and understand the whole scenario. Two years ago when the Bourne Supremacy arrived I thought it was a better movie than Identity but still didn't think it was as good as I expected it to be judging by the trailers. Over the past two years I had been told numerous times that the Bourne movies were amazing, many a time I had to bite my tongue and not say what I really thought about the movies. Until two months ago I couldn't have given a damn about the Bourne Ultimatum, I really had no intentions of watching it. But then I decided to go back and re-watch the first two before I came to any abrupt decisions. So I went out and bought both the original movies. And what a surprise it was to me when I was gripped by them. Identity I found the superior of the two, but Supremacy isn't far behind. They're both slick, action packed and thrilling pieces of cinema that I have watched numerous times since I bought them. Because of this I was first in line today to see the Bourne Ultimatum. And boy did Bourne Ultimatum not disappoint! <br /><br />Matt Damon was never one of my favourite actors until he appeared in the Bourne movies, I'd seen him in the Talented Mr Ripley, but I never thought much of him in general. However, it appears he was born to play Bourne (pardon the pun). Throughout this series we have seen the character change before our very eyes, in this movie we see Matt Damon at his very best, even better than he was in The Departed and I thought he was one of the best things in The Departed. You really do find yourself caring for the character and hoping that he finds out everything. Matt Damon plays the role with a quiet intensity and you always find his character extremely believable. The supporting cast of the movie were also absolutely outstanding. Joan Allen was one of my favourite things in Bourne Supremacy, here she excels herself. Her character is also very believable and she has some superbly acted moments towards the end of the movie. Julia Stiles turns up again as Nicky and finally we learn a bit about her character. Julia Stiles is a very underrated actress and I think she deserves a lot more roles, well decent roles, than she gets. David Strathairn is a newcomer to this series as Noah Vosen, he's definitely the bad guy of the movie and he really excels. He's definitely the nastiest character we've met, and some of the decisions he makes are truly nasty. Strathairn relishes the role and he too gets some superb scenes in the movie. Special mention must also go to Albert Finney who makes the most of his all too brief screen time, I will not say anything about the character, that's best left as a surprise, but trust me his scenes are some of the highlights of the movie.<br /><br />The Bourne movies have always had a strict focus on the storyline more than the action sequences, this isn't to say the trilogy lacks action sequences, good god no there's loads of them dotted all throughout the movies. But running throughout the movie is a very well written and well acted storyline. This storyline concludes in the best way imaginable in this movie. As I watched Supremacy the night before I saw Ultimatum it was nice because I could notice certain little parts. That very final scene in Supremacy, in New York, a lot more important that I ever imagined at the time. Won't spoil it for people but I recommend checking up on Supremacy before you see Ultimatum. Unfortunately though for a lot of people they will go to see Ultimatum purely because of the action sequences. This is the part where I should condemn such people and say they should see it for the storyline, but I'd be lying if I didn't say that my favourite parts of the Bourne series as a whole are the car chases. The mini car chase in Identity is one of my favourite car chases of all time. Well the action in Ultimatum has to be the best of the Bourne series. In fact the movie kicks off with an action sequence in Moscow. So in the duration of the movie we get numerous punch ups, all very violent and shockingly brutal. A bike chase that is absolutely amazing, many foot chases which are even more amazing, a thrilling car chase that is unforgettable, and oh so much more! But the highlight for me has to be the scene in Waterloo station, won't ruin it but for some reason had me gripped.<br /><br />So any flaws for the movie? In my eyes no, but if you are not a fan of the Bourne series or have not seen the previous two then I wouldn't recommend Ultimatum for you. The movie doesn't try to win over any new fans as it sticks to what the franchise does best and just adds a nice bit more storyline and action sequences on top. The Bourne Ultimatum is undoubtedly the best of the series and the best blockbuster of 2007. As a James Bond fanatic it is a great honour for me to say that Ultimatum is a lot better than a majority of the Bond movies, and trust me it takes a lot for me to say that. While Bourne as a whole might not be a better franchise than the Bond series, it is definitely nearly its equal.\"\n",
      " b'Although most Americans have little knowledge of his work other than Star Wars, Alec Guinness produced an amazing body of work--particularly in the 1940s-1950s--ranging from dramas to quirky comedies. I particularly love his comedies, as they are so well-done and seem so natural and real on the screen--far different from the usual fare from Hollywood.<br /><br />This being said, this was the film that sparked my interest in these movies. It\\'s plot was so odd and cute that it is very unlikely the film would have been made anywhere--except for Ealing Studios--which had a particular fondness for \"little\" films like this one.<br /><br />Guinness is a nerdy little scientist that works for a textile company. He wants to experiment in order to create a synthetic fabric that is indestructible, though he is not working for the company as a researcher but for janitorial work! So, he tends to sneak into labs (either during the day if no one suspects or at night) and try his hand at inventing. Repeatedly, he is caught (such as after he blew up the lab) and given the boot until one day he actually succeeds! Then, despite the importance of the discovery, he sets off a completely unanticipated chain of events--and then the fun begins.<br /><br />The film is a wonderful satire that pokes fun at industry, unions, the government and people in general.'\n",
      " b'Yet another remake of \"Fistful of Dollars\", Sergio Leone\\'s remake of Kurosawa\\'s \"Yojimbo\" (suggested by the novel \\'Red Harvest\\').<br /><br />This one is strictly a B-Movie; taken as that, it is rather enjoyable. the direction is crisp, the acting full of verve, the limitations of its \\'direct-to-video\\' photography well-handled.<br /><br />The weakness of the film is in the disastrous decision to marry the \\'fistful\\'/\\'yojimbo\\' plot to a sub-plot from Leone\\'s \\'Once Upon a Time in the West\\'. Although leone directed both \\'Fistful\\' and \\'West\\', his motivations behind the two films couldn\\'t be anymore different. The \\'Man With No Name\\' (Eastwood) is a borderline socio-path with a soft spot for broken families. Harmonica (Chaeles Bronson) is obsessed with his own broken family, and obsessed with revenge. These two characters would not have had much to do with each other. In order to bring them together, \\'Gun Crazy\\' has to twist it\\'s plot and complicate it until we lose track of which story we\\'re actually following.<br /><br />But this is a B-Movie after all, and filled with action and silliness; it\\'s entertaining on that level, just don\\'t expect anything more.'\n",
      " b'Alain Chabat claims this movie as his original idea but the theme of reluctant lovers who finally get it together is as old, if not older, than Shakespeare.<br /><br />Chabat is a \"vieux garcon\", happily single and not wanting any member of the opposite sex to disturb his life. He has a problem, 5 sisters and a matriarchal mum - the G7 - who decide he should be married. Enter the delightful, charming Charlotte Gainsbourg and what should be a simple plan. Charlotte has to pose as Chabat\\'s girlfriend and then simply not turn up on the day of the wedding. No more talk of marriage from the G7. Of course the best laid plans have a habit of spiralling out of control.<br /><br />There are very strong supporting roles from Lafont as the mother and Osterman as the tight-fisted brother of Gainsbourg.<br /><br />There are some fantastic scenes as first Charlotte has to charm, then revolt the family. French farce with an English.'\n",
      " b'Oh, those Italians! Assuming that movies about aristocrats with weird fetishes, castles drowned in gothic atmosphere, and back-stabbing relatives trying to get their hands on an inheritance are inherently interesting to all! If you\\'ve seen one film of this type, you\\'ve basically seen them all (the MST3K favorite \"Screaming Skull\" fits the mold, too)...and \"The Night Evelyn Came Out of the Grave\" is formulaic, by-the-numbers, and dull as hell. Even the luscious Erika Blanc is put to waste here.<br /><br />zero/10<br /><br />'\n",
      " b\"I am a big fan of Stephen King. I loved The Running Man. So obviously I was very excited that someone had made a film of it. And when a local network showed the film, I was in heaven. I was all ready for a night of fun!<br /><br />The first indicator that something was wrong was when I noticed that someone had cast Arnold Schwarzenegger. I could simply not believe that a man who got famous for films filled with runnin' an' shootin' could play a more cunning part, as was described in the book. I still was convinced that this would be a good film, however. Who knows, maybe Arnold had some hidden talents?<br /><br />Well, he didn't. I soon found out that the only reason he was even cast was because someone had re-written the entire story to MAKE it about fightin' an' shootin'. Yup, it was a standard Arnold-film: hero is done wrong, hero solves problems by flexing his mighty muscles and scaring everyone away and hero gets the girl.<br /><br />I was stunned. This is NOT what the book said at all. I know that books can't be put on screen literally, but this didn't even have ties to the book. Stephen King should have openly denounced any affiliation with the film and he should have forbidden using the title The Running Man for this shameless waste of film. I don't say it often, but this film was BAD. If I weren't at home watching, I'd have tossed rotten tomatoes at the screen. Once again: bad.<br /><br />(Note that I used 'someone' a lot. I did this because I'm sure a lot of people are ashamed to have worked on this and I don't want to embarrass them even further by naming them here)\"\n",
      " b'So what constitutes a real independent film? In a day and age where the latest fad of mainstream hollywood is to appear rugged and cutting edge, I\\'m sorry to say that what the general public tends to perceive as independent film is usually nothing more than a clever marketing ploy.<br /><br />Which is why we should be glad that films like \"Hatred of a Minute\" exist. Across the board, this film makes a point out of contradicting its own template (indie horror film). Love it or hate it, \"Hatred\" isn\\'t afraid of being what it is, and in watching this film, you get the real sense that Kallio (the director) didn\\'t just make this film to spray fake blood all over the place, he\\'s in this to tell stories. Good ones. You may find this film in the horror film section of your video store, but don\\'t be fooled, this story is also about love, about good people pushed over the edge, and that oh-so-distant light at the end of the tunnel.<br /><br />If you expect smut, or an Evil Dead ripoff, stay away from this film. But if you dig the finer points of the horror/suspense genres, check this film out.<br /><br />Yes. Bruce Campbell did produce this movie, and I\\'m sure he\\'s proud to tell anyone that it\\'s not \"Evil Dead\". Bruce has never tried to bank on his \"ash\" image, and it\\'s obvious that he didn\\'t get involved with \"Hatred\" so that it could do so either.<br /><br />My advice, though, to all Dead-ites rabidly devouring anything issued by Mr. Campbell is to check this film out anyway and see what else Mr. Kallio and Mr. Campbell are trying to show you.<br /><br />The acting is well done, although nothing about this film is oscar caliber (perhaps intentionally), it\\'s good to see compassionate performances in a horror film. So often, actors in films such as these don\\'t even seem to try, with \"Hatred\", it seemed as though all the actors took thier charecters very seriously, never resorting to typical horror-film campiness.<br /><br />Technically, \"Hatred\" is about as competent as indie film gets. The editing is fast paced, the cinematography is good given the budget, and \"Hatred\" keeps a quick pace, without any bog-down points or bad anti-climaxes.<br /><br />All in all, Hatred may not have the glossed over look of all those multi-million dollar fake indies, but personally, I don\\'t see a problem with that. It\\'s a film by folks who actually care about the medium. People who reached into thier broke ass pockets, pulled out thier nickles and dimes, threw caution to the wind and made a damn good movie.<br /><br />Check this one out.'\n",
      " b\"Cliffhanger is a decent action crime adventure with some flaws from director Renny Harlin whose admirable in making this movie about an expert climber who finds himself taken hostage with a fellow friend by a gang of dangerous criminals on the search for suit cases full of stolen cash in the Rocky Mountains. Sylvester Stallone is impressive as Gabe Walker the expert climber especially in the action/fight sequences but some of them definitely border on the line of unrealistic. For the sake of the film though I willing to suspend my disbelief. The rest of the cast including John Lithgow, Michael Rooker, Janine Turner, Rex Linn, Caroline Goodall, and Leon are respectable as the supporting characters in the movie. The action/fight sequences are well executed but as mentioned before some aren't very realistic no matter how tough you are. The climbing sequences however are very well done because instead of doing the whole film in a studio somewhere the locations they chose felt very real and the Ariel views of the mountain ranges are marvelous adding a touch of reality to the movie. The deaths are inventive while others are sort of predictable. The villains are solid but it would've been better if they had focused on a more central one instead of having many of them. The pacing of the movie was a little slow but the good outweighs the bad in this one. If you're a big fan of Harlins or Stallone's than chances are you'll enjoy this one too. Overall Cliffhanger has character development with enough action, drama, some suspense, excitement, thrills, and good performances by the cast who make this movie worth the time to watch.\"\n",
      " b'I watched it some years ago. I remembered it as very mysterious situations, and a mixture of melancholic things, like the fate of Dorothy and the personal future of Bogdanovich.<br /><br />I turn to watch on my VHS copy and then I was reviewing it more and more. Nowadays I am waiting for the DVD version, at any price, please!<br /><br />The country and easy listening music is very well chosen from the very first second, a bit of blueish, but also happy.<br /><br />All the characters are great to me, with funny situations, great acting and a lot of dialogs that have turn this as a cult movie to me and a lot of people I met on the Internet or cinema clubs. This may not be casualty.<br /><br />I think that the title is a hope about life! You have to be happy and laugh as much as possible<br /><br />I know that this may be a particular comment for the movie, but the fact is that I like it very much, I think that movie marked me and I will never forget it.'\n",
      " b'With \\'Twelve Monkeys\\' you need to pay attention, but if you do that you probably find a lot to appreciate. I know I did. The story is interesting and deals with time traveling. A virus killed a lot of people back in 1997 and a guy named Cole (Bruce Willis) is send back to 1990 and 1996 to find a cure for the virus. In 1990 he is arrested and put in a mental hospital. There he meets Jeffrey Goines (Brad Pitt), who probably has something to do with the virus. He also meets psychiatrist Dr. Kathryn Railly (Madeleine Stowe) who doesn\\'t believe him in 1990. When Cole disappears from the mental hospital while he is chained and locked in a room and re-appears in 1996 Kathryn starts believing Cole\\'s stories.<br /><br />The movie constantly plays with time. Cole makes a phone call and leaves a message in 1996, it is picked up in the future and \"they\" send someone. For Cole that someone appears only seconds after the phone call. Things like this happen throughout the movie and therefore you must keep attention. You could ask some questions but since you can\\'t have an answer yourself it is better to agree with the movie.<br /><br />\\'Twelve Monkeys\\' works as sci-fi, with some great images and a dark atmosphere, and it works as a thriller. You are never certain of what will happen next and that helps the movie. May be it has some flaws in the story, but since it is about a fictional thing like time traveling, you should accept what the movie tells us and just try to enjoy. That was the easy part for me.'\n",
      " b'*** Warning - this review contains \"plot spoilers,\" though nothing could \"spoil\" this movie any more than it already is. It really IS that bad. ***<br /><br />Before I begin, I\\'d like to let everyone know that this definitely is one of those so-incredibly-bad-that-you-fall-over-laughing movies. If you\\'re in a lighthearted mood and need a very hearty laugh, this is the movie for you. Now without further ado, my review:<br /><br />This movie was found in a bargain bin at Wal-Mart. That should be the first clue as to how good of a movie it is. Secondly, it stars the lame action-star Dolph Lundgren. That should be the second clue as to how good of a movie it is. I\\'m still shocked that it was even put on DVD (who would waste their money doing such a thing?), though as you might imagine, there aren\\'t any extras or bonus footage on the DVD. In fact, there\\'s not even a menu; the movie just starts playing.<br /><br />First, the writer for this movie deserves to be tortured and killed. It has one of the worst scripts ever written and is plagued with terrible one-liners; remarkably unbelievable, fake dialogue; and inappropriate comments (like Lee\\'s comment on Lundgren\\'s. err. manhood, which I\\'ll mention later). There isn\\'t one single sincere sounding line in the entire movie. The dialogue and plot go hand-in-hand, as the script and plot both progress in an entirely nonsensical fashion. The two cops hate each other for no apparent reason at the beginning, and then for again no reason at all, Lee\\'s character pulls over to the side of the road, runs around to the other side of the car, and says `I\\'m not going to let you go alone, \\'cause despite myself, I like you! And I don\\'t want to see you get killed!\\' . or something to that extent, anyhow. There are disgusting one-liners, mostly said by Lee. For instance, when duking it out with a bad guy, Lee says `You have the right to remain silent . You have the right to be dead!\\' Lastly, I\\'ll mention the entirely inappropriate and nonsensical comment that Lee makes about Lundgren\\'s nether-regions. When bad guys start to attack after a seemingly random love scene between Lundgren and Carrere, and Lundgren decides to fight them off in his underwear, Lee says to him: `Incase we die, I just wanted to let you know that you have the biggest dick I\\'ve ever seen on a guy.\\' . Yes, he actually says that. It makes no sense and isn\\'t even possible (Lee never actually sees Lundgren naked, so how would he know?), but the writer threw it in the script anyway. The entire movie looks like some kind of action video game, and Lee even admits it. After Lee and the underwear-only Lundgren defeat all of those bad guys, Lee makes a comment that is also truly beautiful: `Wow, this is sort of like a video game; we just defeated the first wave!\\'<br /><br />Second, the plot of this movie is despicable. It suffers, in my opinion, mainly from the fact that it just doesn\\'t exist. The trailer for this movie - which IMDb has available for viewing, by the way - makes it sound like the movie is about two cops trying to stop the Japanese Yakuza from taking over Lost Angeles. This is extremely misleading, however, since the movie has practically nothing to do with that at all. They make very brief, vague references to the Yakuza trying to start up a methamphetamine business with local drug dealers, but the entire movie ACTUALLY revolves around a poorly-written attempt for Kenner (Lundgren\\'s character) to revenge the death of his parents, whom the Yakuza leader (named Yoshida) killed when he was only 9 years old. The entire plot can basically be summed up like this: Yoshida wants Kenner dead, Kenner wants Yoshida dead, and the two try two kill each other. And of course all the while Kenner\\'s sarcastic sidekick (named Johnny and played by Brandon Lee) acts like an ignorant idiot, and Tia Carrere gets naked. twice.<br /><br />The acting is one of the worst parts of the entire movie. The dialogue is so unrealistic, and their entirely insincere portrayal of it emphasizes this even more. You\\'d expect poor acting from action stars anyway, but this movie highlights some of the most unimaginably bad acting ever recorded.<br /><br />Finally we get to the heart of the movie\\'s baseness: the flagrantly bad action. There are so many astoundingly bad, unrealistic action sequences in this movie, it\\'s just downright impressive they managed to fit them all in. Although Lee has his fair share of bad scenes as well, most of the truly terrible action involves Lundgren. For instance, Lundgren nonchalantly takes on four or five kung fu bad guys one-handed, without spilling his tea. Then, when surprised by an oncoming speeding car, Lundgren casually leaps over it. Or how about when he reaches THROUGH a closed door, grabs the villain on the other side, pulls him back through the door, and beats him up? Or when he picks up Tia Carrere, gently walks (not runs) backward through a glass door that shatters around him, and leaps down a one-story height with Tia still in arm, only to then lift up an entire car without the slightest effort and uses it as a barricade to shield them from bullets? All of the shameless gunfights are terrible as well, with Lundgren and Lee killing every bad guy instantaneously, while the rain of bullets from their fifty attackers never seem to hit either of them. That is, of course, until the final fight scene of the movie. Lundgren gets shot point blank in his bare chest in a region that even if it did manage to miss his heart, would still immediately begin to fill lungs with blood and kill him within a matter of seconds. Despite this, Lundgren remains in top-notch condition and manages to duke it out in the middle of a parade with Yoshida, the evil super villain. And of course the passing people in the parade dressed as samurai are carrying REAL, fully sharpened katanas, which the two use to sword fight. Now in addition to his bullet wound, Lundgren gets several deep slices in his chest and arms. Does this stop him? No, of course not! In fact, a few seconds later after easily killing the evil Yoshida (who gets pinned to a dartboard-like wheel and then bursts into flames for no reason), Lundgren casually walks off with Tia and Lee as if he wasn\\'t injured at all. God, it\\'s terrible.<br /><br />All of these factors are then mixed up with an entirely unnecessary, gratuitous nude scene every five minutes, including topless women at a party, the beheading of a topless woman, women at a strip club, nude women at a Japanese spa, and the pointless hot tub and love scene with Tia. Not to mention the trip to the bizarre sushi bar, at which rich Japanese men are eating sushi off of naked women. Which, by the way, prompts Lee to say with much fake enthusiasm that after defeating the bad guys he and Lundgren will `go eat fish off those naked chicks!\\' Which, of course, is followed by a disturbing high five. And we can\\'t forget the terrible editing either, like when the villains are crushing a man trapped in a car at a junk yard, and the editors left in a really obvious glimpse of a prop dummy. The credits also list an enormous list of stunt workers, which implies that a lot of the action probably wasn\\'t done by the movie stars after all.<br /><br />In the end, this movie repeatedly outdoes it self with brazen badness. It is illogical and impossible, and as a result, remarkably entertaining. If you\\'re looking for any kind of thoughtful cinema, this movie will make you want to die. If you\\'re looking for a good laugh and a good time mocking bad movie making, this movie will delight you. As an actual movie, I\\'ll merit this movie a 0.5 out of 10. As an entertaining way to waste an hour and eighteen minutes, however, this beauty takes the cake.'\n",
      " b\"I was at the same screenwriters conference and saw the movie. I thought the writer - Sue Smith - very clearly summarised what the film was about. However, the movie really didn't need explanation. I thought the themes were abundantly clear, and inspiring. A movie which deals with the the ability to dare, to face fear - especially fear passed down from parental figures - and overcome it and, in doing so, embrace life's possibilities, is a film to be treasured and savoured. I enjoyed it much more than the much-hyped 'Somersault.' I also think Mandy62 was a bit unkind to Hugo Weaving. As a bloke about his vintage, I should look so good! I agree that many Australian films have been lacklustre recently, but 'Peaches' delivers the goods. I'm glad I saw it.\"\n",
      " b\"i went to see this movie with a bunch of friends one night. I didn't really hear much about it. So I wasn't expecting anything. But after I saw it, I really liked it. Nicolas Cage and the rest of the cast were very good. But I do have to say Giovanni Ribisi's acting performace did need a little perking up. But such a small flaw, it could be overrided. <br /><br />Gone In 60 Seconds is about a retired car thief who must boost 60 rare and exotic cars in one night to save his brother's life. The movie is in no way predictable. So the ending should be a suprise. Think it's just another, fast car driving movie? Well you are partially right. There is much more to it. Everyone should take a look at this movie.\"\n",
      " b\"This is the most depressing film I have ever seen. I first saw it as a child and even thinking about it now really upsets me. I know it was set in a time when life was hard and I know these people were poor and the crops were vital. Yes, I get all that. What I find hard to take is I can't remember one single light moment in the entire film. Maybe it was true to life, I don't know. I'm quite sure the acting was top notch and the direction and quality of filming etc etc was wonderful and I know that every film can't have a happy ending but as a family film it is dire in my opinion.<br /><br />I wouldn't recommend it to anyone who wants to be entertained by a film. I can't stress enough how this film affected me as a child. I was talking about it recently and all the sad memories came flooding back. I think it would have all but the heartless reaching for the Prozac.\"\n",
      " b\"It was probably just my DVD---but I would not recommend that anyone try to watch this picture on a DVD.<br /><br />I had to turn up the volume on my TV to the highest possible level, in order to hear about 80 percent of the dialog. Some of the talking still remained sub-audible. If you're from Scotland, you might have a chance, albeit a slim one.<br /><br />Peoples voices were drowned out by nearly all ambient sounds, including unwrapping a package, footsteps, even puffing on a cigarette. <br /><br />With the volume turned up to a level at which voices can be heard, I can guarantee that at least one of your neighbors will phone the police when the scene changes to a loud environment, such as a disco. And that you will injure yourself diving for the remote to turn it back down.<br /><br />There is art and there is art, even in the field of audio mixing. But this effort, in a time of war, would meet international criteria to be classified as an atrocity.<br /><br />After about a half hour, I gave up, having seen nothing else redeeming in the picture, either.\"\n",
      " b'I saw this with few expectations and absolutely loved it! Bend it like Beckham is a fairly typical coming-of-age movie about a fairly atypical girl. This is Parminder Nagra (\"ER\")\\'s breakout role, playing Jess, a teenager in England who is caught between her traditional Indian family and her love of football (that\\'s soccer to us North Americans). And even though she\\'s actually much older than her character, she plays the role pitch-perfect.<br /><br />This is a movie about friendship - specifically Jess\\'s friendship with Jules (Keira Knightley), her teammate who is also going through family issues, especially with her mom, who wears purple nail polish and little bows on her shoes, and who wants Jules to be more feminine, wear lacy underwear and flirt with boys and is terrified that playing sports means her daughter is a lesbian. Jules and Jess both love playing the game and have issues trying to convince their families to let them go after their dreams. They also, unfortunately, both love the same man - Joe, their coach (played by Jonathan Rhys-Meyers). The love triangle causes some strain in their friendship.<br /><br />In some spots, Bend It Like Beckham falls into clich\\xc3\\xa9s. In others, scenes drag on far too long, and this movie probably could have benefited from overall tighter editing.<br /><br />But this was a refreshingly fun film about growing up, culture clash, and the love of football. It\\'s about female empowerment, chasing your dreams, and supporting your friends. Funny, charming and fun, Bend It Like Beckham is the little film that could... and did.<br /><br />Excellent. 8/10.'\n",
      " b'This is probably the worst movie ever made it is just to bad the name of Roger Corman is associated with it. I could\\'ve understand it in his early years when he had lower budgets but nowadays there is no excuses for giving birth to this! I\\'m a \"B\" movie pervert and from certain people point of view all the flicks I love are put aside by \"regular viewers\" but take my word on this one, Vampire club makes the top of my list of the best of worst.It\\'s hard to Imagine, vampires with no fangs, the music score is totally out of place,the sound effects are just not effective and finally Mr.Savage doesn\\'t seem to know he is in a vampire movie at all witch is too bad \\'cause he had a \"not to bad\" career over all. Let me know i\\'f I\\'m to hard on this one cause when I don\\'t like a movie I tend to forget about it\\'s good side.'\n",
      " b\"If Dick Tracy was in black and white, the pope wouldn't be religious. Giving a new sense to the concept of color in a movie, we are offered an unique experience throughout a comic-strip world, and it's one of the few movies which succeeded in doing so, thanks to a serious script, good direction, great performances (Al Pacino is astonishing) and most importantly a powerful mix of cinematography, art direction and costume design. Using only primary colors, the experience is quite different from anything we have seen before. And there is also a quite successful hommage to all the gangster-movie genre, pratically extinct from modern cinema. Overall, I see this movie as a fresh attempt and a touch of originality to a cinema which relies more and more on the old and already-seen formulas. 7 out of 10.\"\n",
      " b\"One of the worst romantic comedies (nay, worst movies) I've ever seen. Boy (who works as a phone psychic!) must pretend to be gay to move into apartment with woman of his dreams. Hilarity does not ensue. Boredom, light gay-bashing, and horrible dialogue do. If you read Brad Meltzer and like his crappy dialogue, you'll like this movie.<br /><br />Be smart. Avoid this. if you see it, destroy the copy.\"\n",
      " b'Even though an animated film it really bored everyone under at least 6.<br /><br />As a grown up who grew up in an area with wild horses and native americans, it felt this was a combination of PC mixed in with too many fantasy films created by people who never lived in the area they filmed about. Talk to those who have lived on horse back, most treat their animals like family members, regardless of background. Regardless of background we have dealt with good and bad breakers of wild horses. I had to explain that was a real life issues to us vs the movie makers views to children who were surprised to see how PC showed a world different than what they knew in reality.<br /><br />This dreamworks break from the normal disney or dreamworks fare of cute talking animals burning up the screen was nice from the older viewer point of view. But if you live in an area similar to what is shown, you may end up answering questions.'\n",
      " b\"Normally the best way to annoy me in a film is to include some reference to Orson Welles. But here is a sci-fi comedy quoting the War of the Worlds broadcast.... and it is gold! The very concept of a small bunch of diminutive,aggressive and stupid aliens being mistaken as kids in Halloween dress is magnificent. Don't be fooled by the notion that because it seems like a kids' movie it is unsophisticated - it isn't, there's a lot of hidden treasure... A gem!\"\n",
      " b'The music of Albeniz pervades this film. Once and a while it is played with original instrumentation (e.g. piano, but never full orchestra), but often it is re-worked with various contemporary ensembles (e.g.guitar) and treatments (e.g. jazz piano). Only occasionally is the music the sole focus of the film: the vast majority of the time the music is set to various dances, often flamenco, but not always. I would guess that there are 12\\xc2\\x9614 scenes, which are not united by a plot. Not all scenes will reach the heights for an individual viewer. In my case about half reached the pinnacle, though all the rest were in their own way very fine. Those that worked for me moved me to goose-flesh aesthetic delight; indeed, the final scene left me weepy with joy. And in some very magical way it brings you deep into Spanish culture. If you don\\'t like subtitles, don\\'t worry. The film is virtually wordless, though each scene carries a title of an Albeniz piece. Seeing this very beautiful film sharpens my complaint that virtually none of the films of Saura are available on DVD in the USA. I am thinking here particularly of his flamenco version of \"Carmen,\" a spectacular work of art that is available in Europe but not here (European DVD\\'s won\\'t play on American DVD players). This is a scandal.'\n",
      " b'Gregory Peck\\'s brilliant portrayal of Douglas MacArthur from the Battle of Corregidor in the Philippines at the start of the Pacific War largely through to his removal as UN Commander during the Korean War offers reason to believe all three of the above possibilities. Certainly the most controversial American General of the Second World War (and possibly ever) MacArthur is presented here as a man of massive contradictions. He claims that soldiers above all yearn for peace, yet he obviously glories in war; he consistently denies any political ambitions, yet almost everything he does is deliberately used to boost himself as a presidential candidate; he obviously believes that soldiers under his command have to follow his orders to the letter, yet he himself deliberately defies orders from the President of the United States; he shows great respect for other cultures (particularly in the Philippines and Japan) and yet is completely out of touch with his own country. All these things are held in balance throughout this movie, and in the end the viewer is left to draw his or her own conclusions about the man, although one is left with no doubt that MacArthur sincerely and passionately loved his country, and especially the Army he devoted his life to.<br /><br />Peck\\'s performance was, as I said, brilliant - to the point, actually, of overshadowing virtually everyone else in the film (which is perhaps appropriate, given who he was portraying!) with the possible exception of Ed Flanders. I though he offered a compelling look at Harry Truman and his attitude to MacArthur: sarcastic (repeatedly referring to MacArthur as \"His Majesty,\") angry, frustrated and finally completely fed up with this General who simply won\\'t respect his authority as President. Marj Dusay was also intriguing as MacArhur\\'s wife Jean, devoted to her husband (whom she herself referred to as \"General,\" although their relationship seems to have been a happy enough one.) I very much enjoyed this movie, although perhaps would have liked to have learned a little more about MacArthur\\'s early life. I have always chuckled at MacArthur\\'s reaction to Eisenhower being elected President (\"He\\'ll make a fine President - he was the best damn clerk I ever had\" - which seems to sum up what MacArthur thought the role of the President should be, especially to his military commanders during wartime.) Well worth watching. 8/10'\n",
      " b\"As with most of the reviewers, I saw this on Starz! OnDemand. After watching the preview with my girlfriend, she decided not to watch it from how bad the preview watched. I, on the other hand, thought it looked weird enough to warrant a watching. I mean, the design of Dr. Meso alone warranted at least a brief sweep over this title. After watching it, I can say that while there are some interesting aspects to it (namely the browsing over the notebooks and trying to figure out the incomprehensible story), it's best to pass over this one.<br /><br />*Major Spoilers Ahead* After making their first video for their as-yet-unfinished CD, the lead singer, Cassidy, kills herself in an attempt to get her boyfriend Neil to notice her. 3 months later, the band is trying to decide if they're going to finish the album or not. To try and see what Cassidy would have wanted, they go to see an old psychic friend of hers, Dr. Meso, and try to contact her through him. In his card reading, Dr. Meso turns up four straight Death cards for the four remaining band members. Bad times are ahead. (I just wanted to make a point that later in the film, they do explain that the Death card really just represents change. Kudos to them on that at least.) Even without the approval of their deceased friend, they decide to go ahead and finish the album. But while in the bathroom, Cassidy's best-friend, Dora, catches a glimpse of her deceased friend. When another band-mate goes in to check on her, Dora is standing in the dark, requesting his sunglasses. That's when the killing begins.<br /><br />My main problem with the film from the very get-go is that it seems to be heavy stylized to a fault. Too many warping effects, unnecessary zooms, and a plethora of other cheap effects riddle this film. An incoherent storyline doesn't help anything either. While the narrative hangs together for the first part, once Cassidy is resurrected, everything falls apart. We have jump-cuts between Cassidy and Dr. Meso (who mysteriously was able to get into a locked building), which show they are connected in some way or another. However, within a few minutes of that revelation, we find that Cassidy really is an independent being from Meso. She then turns on the guy who had been helping her revenge and he scurries away in a way that calls to mind Jack Nicholson as The Joker. But not in a good way.<br /><br />From this point on, the whereabouts of Cassidy are shown, but there are strange lapses as character moves from place to place almost out of sequence. One scene we see Cassidy standing at a desk, when a character enters in the next, she's nowhere to be found. As he moves behind the desk, we see her at the end of a hallway. Then in another room grabbing the keys (which Neil already has), then back again. Not to mention that from one moment to the next, Cassidy's mood seems to go a complete 180 without a catalyst to it. One moment, she wants to kill everyone (although she's only wounded 90% of the characters) - the next she's apologizing to everyone and walks out the door to die again. Sound confusing? That's because it is. It's a jumbled mess that I'm sure the writer couldn't even figure out.<br /><br />As for the performances, most are particularly wooden. Some though are interesting, but overall this isn't a piece that would be known for it's acting. The story is the driving force behind this piece.\"\n",
      " b'Val Kilmer and Dylan McDermott are terrific. I have seen Kilmer on The Doors, however his interpretation of John Holmes is superb. Nothing compared to Boogie Nights which was kind of slow. Wonderland is a movie which is able to show you a horrible crime story from the perspective from a guy who is just indulged in his drug vice and indolent of what ever happens around. At the same time, the John Holmes character shows a very clever hustler who is able to pass through the nastiest and ugliest situations almost unharmed. The movie deserves being watched more than once. The seventies ambiance sensual and full of drugs is amazing.'\n",
      " b\"If you have seen Friends, the writing will feel very familiar. Especially the last 3 or 4 seasons of Friends often share the same comedy setups.<br /><br />The show is about a group of people whose connection is that they shared the same class when they were still rather young (about 10 years old I think). Now, they're in their mid-twenties, and they meet again on a class reunion. This is where the series starts.<br /><br />A typical episode deals with multiple story lines at once. They're usually not connected in any way. Each story line is cut up into multiple sections, which are then shown in a mixed order.<br /><br />The sketches is where my problems lie with this series. As in the later seasons of Friends, it's often a rather silly setting with hard to believe situations. One of the main characters does something really stupid that's hard to believe. The situation is then heavily exaggerated, as if it wasn't silly enough. If you're into this kind of in-your-face humor, then maybe you'll like this series. For me it is a great turn-off.<br /><br />The reason I started watching Friends is because of the first few seasons. There are interesting and especially credible story lines, with some romance in it that makes you root for the characters. The Class has none of this. The characters are simply too forced and stereotypes are pushed too far. It's therefore not possible to relate to them and like them.<br /><br />At least with friends, it took several seasons before it ran out of steam and the character traits were all milked out. But in The Class, it seems it has run out of steam before it even started.\"], shape=(32,), dtype=string)\n",
      "tf.Tensor([1 1 1 1 1 0 1 1 1 1 0 0 1 1 1 1 0 1 1 0 0 1 0 1 0 0 1 1 1 0 1 0], shape=(32,), dtype=int32)\n"
     ]
    }
   ],
   "source": [
    "for x,y in train_ds.take(1):\n",
    "  print(x)\n",
    "  print(y)"
   ]
  },
  {
   "cell_type": "code",
   "execution_count": 14,
   "metadata": {
    "id": "WbSxUc2-ZHEb"
   },
   "outputs": [],
   "source": [
    "from tensorflow.keras import layers"
   ]
  },
  {
   "cell_type": "code",
   "execution_count": 15,
   "metadata": {
    "id": "i9zGOkfsZeaH"
   },
   "outputs": [],
   "source": [
    "max_length = 600\n",
    "max_tokens = 20000"
   ]
  },
  {
   "cell_type": "code",
   "execution_count": 16,
   "metadata": {
    "id": "5hoYP_u-ZlL_"
   },
   "outputs": [],
   "source": [
    "text_vectorization = layers.TextVectorization(\n",
    "max_tokens=max_tokens,\n",
    "output_mode =\"int\",\n",
    "output_sequence_length=max_length,\n",
    ")"
   ]
  },
  {
   "cell_type": "code",
   "execution_count": 17,
   "metadata": {
    "id": "Xm3PQ0vOZo3t"
   },
   "outputs": [],
   "source": [
    "text_vectorization.adapt(text_only_train_ds)"
   ]
  },
  {
   "cell_type": "code",
   "execution_count": 18,
   "metadata": {
    "id": "dg10AhwDZuKA"
   },
   "outputs": [],
   "source": [
    "int_train_ds = train_ds.map(\n",
    "    lambda x,y:(text_vectorization(x),y),\n",
    "    num_parallel_calls=4\n",
    ")\n",
    "int_val_ds = val_ds.map(\n",
    "    lambda x,y:(text_vectorization(x),y),\n",
    "    num_parallel_calls=4\n",
    ")\n",
    "int_test_ds = test_ds.map(\n",
    "    lambda x,y:(text_vectorization(x),y),\n",
    "    num_parallel_calls=4\n",
    ")"
   ]
  },
  {
   "cell_type": "code",
   "execution_count": 19,
   "metadata": {
    "colab": {
     "base_uri": "https://localhost:8080/"
    },
    "id": "NKtLABv3aUPO",
    "outputId": "b1eb6d2f-9ba8-441f-ac34-f3e51ecdd055"
   },
   "outputs": [
    {
     "data": {
      "text/plain": [
       "<_ParallelMapDataset element_spec=(TensorSpec(shape=(None, None), dtype=tf.int64, name=None), TensorSpec(shape=(None,), dtype=tf.int32, name=None))>"
      ]
     },
     "execution_count": 19,
     "metadata": {},
     "output_type": "execute_result"
    }
   ],
   "source": [
    "int_train_ds"
   ]
  },
  {
   "cell_type": "code",
   "execution_count": 20,
   "metadata": {
    "colab": {
     "base_uri": "https://localhost:8080/"
    },
    "id": "dUi7Sy68aWE9",
    "outputId": "9c85412c-8ebd-4a90-f131-96d62a353a2b"
   },
   "outputs": [
    {
     "name": "stdout",
     "output_type": "stream",
     "text": [
      "tf.Tensor(\n",
      "[[  10   41  202 ...    0    0    0]\n",
      " [   2  248 3816 ...    0    0    0]\n",
      " [ 292 2288 1876 ...    0    0    0]\n",
      " ...\n",
      " [ 828  833    1 ... 2359 6700   77]\n",
      " [  10   68    3 ...    0    0    0]\n",
      " [ 407   43    2 ...    0    0    0]], shape=(32, 600), dtype=int64)\n",
      "tf.Tensor([1 0 0 1 0 1 1 0 0 0 0 1 0 1 1 1 1 1 1 0 1 1 0 0 0 1 0 0 1 1 1 0], shape=(32,), dtype=int32)\n"
     ]
    }
   ],
   "source": [
    "for x,y in int_train_ds.take(1):\n",
    "  print(x)\n",
    "  print(y)"
   ]
  },
  {
   "cell_type": "code",
   "execution_count": 21,
   "metadata": {
    "id": "xTJXWRpWaeRC"
   },
   "outputs": [],
   "source": [
    "# Create Transformer Encoder"
   ]
  },
  {
   "cell_type": "code",
   "execution_count": 22,
   "metadata": {
    "id": "MlavIGkMam4P"
   },
   "outputs": [],
   "source": [
    "import tensorflow as tf\n",
    "from tensorflow import keras\n",
    "from tensorflow.keras import layers"
   ]
  },
  {
   "cell_type": "code",
   "execution_count": 23,
   "metadata": {
    "id": "cphuL3Tia3aB"
   },
   "outputs": [],
   "source": [
    "import tensorflow as tf\n",
    "from tensorflow import keras\n",
    "from tensorflow.keras import layers\n",
    "\n",
    "class TransformerEncoder(layers.Layer):\n",
    "    def __init__(self, embed_dim, dense_dim, num_heads, **kwargs):\n",
    "        super().__init__(**kwargs)\n",
    "        self.embed_dim = embed_dim\n",
    "        self.dense_dim = dense_dim\n",
    "        self.num_heads = num_heads\n",
    "        self.attention = layers.MultiHeadAttention(\n",
    "            num_heads=num_heads, key_dim=embed_dim)\n",
    "        self.dense_proj = keras.Sequential(\n",
    "            [layers.Dense(dense_dim, activation=\"relu\"),\n",
    "             layers.Dense(embed_dim),]\n",
    "        )\n",
    "        self.layernorm_1 = layers.LayerNormalization()\n",
    "        self.layernorm_2 = layers.LayerNormalization()\n",
    "\n",
    "    def call(self, inputs, mask=None):\n",
    "        if mask is not None:\n",
    "            mask = mask[:, tf.newaxis, :]\n",
    "        attention_output = self.attention(\n",
    "            inputs, inputs, attention_mask=mask)\n",
    "        proj_input = self.layernorm_1(inputs + attention_output)\n",
    "        proj_output = self.dense_proj(proj_input)\n",
    "        return self.layernorm_2(proj_input + proj_output)\n",
    "\n",
    "    def get_config(self):\n",
    "        config = super().get_config()\n",
    "        config.update({\n",
    "            \"embed_dim\": self.embed_dim,\n",
    "            \"num_heads\": self.num_heads,\n",
    "            \"dense_dim\": self.dense_dim,\n",
    "        })\n",
    "        return config"
   ]
  },
  {
   "cell_type": "code",
   "execution_count": 24,
   "metadata": {
    "id": "X7_jfnFefwuF"
   },
   "outputs": [],
   "source": [
    "#lets train model"
   ]
  },
  {
   "cell_type": "code",
   "execution_count": 25,
   "metadata": {
    "colab": {
     "base_uri": "https://localhost:8080/",
     "height": 353
    },
    "id": "fLamvoF6f817",
    "outputId": "763d9381-2ec7-4aae-de72-12e26dc2909b"
   },
   "outputs": [
    {
     "data": {
      "text/html": [
       "<pre style=\"white-space:pre;overflow-x:auto;line-height:normal;font-family:Menlo,'DejaVu Sans Mono',consolas,'Courier New',monospace\"><span style=\"font-weight: bold\">Model: \"functional_1\"</span>\n",
       "</pre>\n"
      ],
      "text/plain": [
       "\u001b[1mModel: \"functional_1\"\u001b[0m\n"
      ]
     },
     "metadata": {},
     "output_type": "display_data"
    },
    {
     "data": {
      "text/html": [
       "<pre style=\"white-space:pre;overflow-x:auto;line-height:normal;font-family:Menlo,'DejaVu Sans Mono',consolas,'Courier New',monospace\">┏━━━━━━━━━━━━━━━━━━━━━━━━━━━━━━━━━━━━━━┳━━━━━━━━━━━━━━━━━━━━━━━━━━━━━┳━━━━━━━━━━━━━━━━━┓\n",
       "┃<span style=\"font-weight: bold\"> Layer (type)                         </span>┃<span style=\"font-weight: bold\"> Output Shape                </span>┃<span style=\"font-weight: bold\">         Param # </span>┃\n",
       "┡━━━━━━━━━━━━━━━━━━━━━━━━━━━━━━━━━━━━━━╇━━━━━━━━━━━━━━━━━━━━━━━━━━━━━╇━━━━━━━━━━━━━━━━━┩\n",
       "│ input_layer (<span style=\"color: #0087ff; text-decoration-color: #0087ff\">InputLayer</span>)             │ (<span style=\"color: #00d7ff; text-decoration-color: #00d7ff\">None</span>, <span style=\"color: #00d7ff; text-decoration-color: #00d7ff\">None</span>)                │               <span style=\"color: #00af00; text-decoration-color: #00af00\">0</span> │\n",
       "├──────────────────────────────────────┼─────────────────────────────┼─────────────────┤\n",
       "│ embedding (<span style=\"color: #0087ff; text-decoration-color: #0087ff\">Embedding</span>)                │ (<span style=\"color: #00d7ff; text-decoration-color: #00d7ff\">None</span>, <span style=\"color: #00d7ff; text-decoration-color: #00d7ff\">None</span>, <span style=\"color: #00af00; text-decoration-color: #00af00\">256</span>)           │       <span style=\"color: #00af00; text-decoration-color: #00af00\">5,120,000</span> │\n",
       "├──────────────────────────────────────┼─────────────────────────────┼─────────────────┤\n",
       "│ transformer_encoder                  │ (<span style=\"color: #00d7ff; text-decoration-color: #00d7ff\">None</span>, <span style=\"color: #00d7ff; text-decoration-color: #00d7ff\">None</span>, <span style=\"color: #00af00; text-decoration-color: #00af00\">256</span>)           │         <span style=\"color: #00af00; text-decoration-color: #00af00\">543,776</span> │\n",
       "│ (<span style=\"color: #0087ff; text-decoration-color: #0087ff\">TransformerEncoder</span>)                 │                             │                 │\n",
       "├──────────────────────────────────────┼─────────────────────────────┼─────────────────┤\n",
       "│ global_max_pooling1d                 │ (<span style=\"color: #00d7ff; text-decoration-color: #00d7ff\">None</span>, <span style=\"color: #00af00; text-decoration-color: #00af00\">256</span>)                 │               <span style=\"color: #00af00; text-decoration-color: #00af00\">0</span> │\n",
       "│ (<span style=\"color: #0087ff; text-decoration-color: #0087ff\">GlobalMaxPooling1D</span>)                 │                             │                 │\n",
       "├──────────────────────────────────────┼─────────────────────────────┼─────────────────┤\n",
       "│ dropout_1 (<span style=\"color: #0087ff; text-decoration-color: #0087ff\">Dropout</span>)                  │ (<span style=\"color: #00d7ff; text-decoration-color: #00d7ff\">None</span>, <span style=\"color: #00af00; text-decoration-color: #00af00\">256</span>)                 │               <span style=\"color: #00af00; text-decoration-color: #00af00\">0</span> │\n",
       "├──────────────────────────────────────┼─────────────────────────────┼─────────────────┤\n",
       "│ dense_2 (<span style=\"color: #0087ff; text-decoration-color: #0087ff\">Dense</span>)                      │ (<span style=\"color: #00d7ff; text-decoration-color: #00d7ff\">None</span>, <span style=\"color: #00af00; text-decoration-color: #00af00\">1</span>)                   │             <span style=\"color: #00af00; text-decoration-color: #00af00\">257</span> │\n",
       "└──────────────────────────────────────┴─────────────────────────────┴─────────────────┘\n",
       "</pre>\n"
      ],
      "text/plain": [
       "┏━━━━━━━━━━━━━━━━━━━━━━━━━━━━━━━━━━━━━━┳━━━━━━━━━━━━━━━━━━━━━━━━━━━━━┳━━━━━━━━━━━━━━━━━┓\n",
       "┃\u001b[1m \u001b[0m\u001b[1mLayer (type)                        \u001b[0m\u001b[1m \u001b[0m┃\u001b[1m \u001b[0m\u001b[1mOutput Shape               \u001b[0m\u001b[1m \u001b[0m┃\u001b[1m \u001b[0m\u001b[1m        Param #\u001b[0m\u001b[1m \u001b[0m┃\n",
       "┡━━━━━━━━━━━━━━━━━━━━━━━━━━━━━━━━━━━━━━╇━━━━━━━━━━━━━━━━━━━━━━━━━━━━━╇━━━━━━━━━━━━━━━━━┩\n",
       "│ input_layer (\u001b[38;5;33mInputLayer\u001b[0m)             │ (\u001b[38;5;45mNone\u001b[0m, \u001b[38;5;45mNone\u001b[0m)                │               \u001b[38;5;34m0\u001b[0m │\n",
       "├──────────────────────────────────────┼─────────────────────────────┼─────────────────┤\n",
       "│ embedding (\u001b[38;5;33mEmbedding\u001b[0m)                │ (\u001b[38;5;45mNone\u001b[0m, \u001b[38;5;45mNone\u001b[0m, \u001b[38;5;34m256\u001b[0m)           │       \u001b[38;5;34m5,120,000\u001b[0m │\n",
       "├──────────────────────────────────────┼─────────────────────────────┼─────────────────┤\n",
       "│ transformer_encoder                  │ (\u001b[38;5;45mNone\u001b[0m, \u001b[38;5;45mNone\u001b[0m, \u001b[38;5;34m256\u001b[0m)           │         \u001b[38;5;34m543,776\u001b[0m │\n",
       "│ (\u001b[38;5;33mTransformerEncoder\u001b[0m)                 │                             │                 │\n",
       "├──────────────────────────────────────┼─────────────────────────────┼─────────────────┤\n",
       "│ global_max_pooling1d                 │ (\u001b[38;5;45mNone\u001b[0m, \u001b[38;5;34m256\u001b[0m)                 │               \u001b[38;5;34m0\u001b[0m │\n",
       "│ (\u001b[38;5;33mGlobalMaxPooling1D\u001b[0m)                 │                             │                 │\n",
       "├──────────────────────────────────────┼─────────────────────────────┼─────────────────┤\n",
       "│ dropout_1 (\u001b[38;5;33mDropout\u001b[0m)                  │ (\u001b[38;5;45mNone\u001b[0m, \u001b[38;5;34m256\u001b[0m)                 │               \u001b[38;5;34m0\u001b[0m │\n",
       "├──────────────────────────────────────┼─────────────────────────────┼─────────────────┤\n",
       "│ dense_2 (\u001b[38;5;33mDense\u001b[0m)                      │ (\u001b[38;5;45mNone\u001b[0m, \u001b[38;5;34m1\u001b[0m)                   │             \u001b[38;5;34m257\u001b[0m │\n",
       "└──────────────────────────────────────┴─────────────────────────────┴─────────────────┘\n"
      ]
     },
     "metadata": {},
     "output_type": "display_data"
    },
    {
     "data": {
      "text/html": [
       "<pre style=\"white-space:pre;overflow-x:auto;line-height:normal;font-family:Menlo,'DejaVu Sans Mono',consolas,'Courier New',monospace\"><span style=\"font-weight: bold\"> Total params: </span><span style=\"color: #00af00; text-decoration-color: #00af00\">5,664,033</span> (21.61 MB)\n",
       "</pre>\n"
      ],
      "text/plain": [
       "\u001b[1m Total params: \u001b[0m\u001b[38;5;34m5,664,033\u001b[0m (21.61 MB)\n"
      ]
     },
     "metadata": {},
     "output_type": "display_data"
    },
    {
     "data": {
      "text/html": [
       "<pre style=\"white-space:pre;overflow-x:auto;line-height:normal;font-family:Menlo,'DejaVu Sans Mono',consolas,'Courier New',monospace\"><span style=\"font-weight: bold\"> Trainable params: </span><span style=\"color: #00af00; text-decoration-color: #00af00\">5,664,033</span> (21.61 MB)\n",
       "</pre>\n"
      ],
      "text/plain": [
       "\u001b[1m Trainable params: \u001b[0m\u001b[38;5;34m5,664,033\u001b[0m (21.61 MB)\n"
      ]
     },
     "metadata": {},
     "output_type": "display_data"
    },
    {
     "data": {
      "text/html": [
       "<pre style=\"white-space:pre;overflow-x:auto;line-height:normal;font-family:Menlo,'DejaVu Sans Mono',consolas,'Courier New',monospace\"><span style=\"font-weight: bold\"> Non-trainable params: </span><span style=\"color: #00af00; text-decoration-color: #00af00\">0</span> (0.00 B)\n",
       "</pre>\n"
      ],
      "text/plain": [
       "\u001b[1m Non-trainable params: \u001b[0m\u001b[38;5;34m0\u001b[0m (0.00 B)\n"
      ]
     },
     "metadata": {},
     "output_type": "display_data"
    }
   ],
   "source": [
    "vocab_size = 20000\n",
    "embed_dim = 256\n",
    "num_heads = 2\n",
    "dense_dim = 32\n",
    "\n",
    "inputs = keras.Input(shape=(None,), dtype=\"int64\")\n",
    "x = layers.Embedding(vocab_size, embed_dim)(inputs)\n",
    "x = TransformerEncoder(embed_dim, dense_dim, num_heads)(x)\n",
    "x = layers.GlobalMaxPooling1D()(x)\n",
    "x = layers.Dropout(0.5)(x)\n",
    "outputs = layers.Dense(1, activation=\"sigmoid\")(x)\n",
    "model = keras.Model(inputs, outputs)\n",
    "model.compile(optimizer=\"rmsprop\",\n",
    "              loss=\"binary_crossentropy\",\n",
    "              metrics=[\"accuracy\"])\n",
    "model.summary()"
   ]
  },
  {
   "cell_type": "code",
   "execution_count": 26,
   "metadata": {
    "id": "TIuD6ENlgaWv"
   },
   "outputs": [],
   "source": [
    "callbacks = [\n",
    "    keras.callbacks.ModelCheckpoint(\"transformer_encoder.keras\",\n",
    "                                    save_best_only=True)\n",
    "]"
   ]
  },
  {
   "cell_type": "code",
   "execution_count": 27,
   "metadata": {
    "colab": {
     "base_uri": "https://localhost:8080/"
    },
    "id": "R-DO3Yv1looG",
    "outputId": "6a99df68-6d39-430d-d8cb-63e922019f69"
   },
   "outputs": [
    {
     "name": "stdout",
     "output_type": "stream",
     "text": [
      "Epoch 1/20\n",
      "\u001b[1m625/625\u001b[0m \u001b[32m━━━━━━━━━━━━━━━━━━━━\u001b[0m\u001b[37m\u001b[0m \u001b[1m71s\u001b[0m 100ms/step - accuracy: 0.5390 - loss: 0.8586 - val_accuracy: 0.8306 - val_loss: 0.3773\n",
      "Epoch 2/20\n",
      "\u001b[1m625/625\u001b[0m \u001b[32m━━━━━━━━━━━━━━━━━━━━\u001b[0m\u001b[37m\u001b[0m \u001b[1m74s\u001b[0m 97ms/step - accuracy: 0.8148 - loss: 0.4092 - val_accuracy: 0.8482 - val_loss: 0.3462\n",
      "Epoch 3/20\n",
      "\u001b[1m625/625\u001b[0m \u001b[32m━━━━━━━━━━━━━━━━━━━━\u001b[0m\u001b[37m\u001b[0m \u001b[1m82s\u001b[0m 98ms/step - accuracy: 0.8416 - loss: 0.3518 - val_accuracy: 0.8590 - val_loss: 0.3281\n",
      "Epoch 4/20\n",
      "\u001b[1m625/625\u001b[0m \u001b[32m━━━━━━━━━━━━━━━━━━━━\u001b[0m\u001b[37m\u001b[0m \u001b[1m61s\u001b[0m 97ms/step - accuracy: 0.8686 - loss: 0.3157 - val_accuracy: 0.8642 - val_loss: 0.3238\n",
      "Epoch 5/20\n",
      "\u001b[1m625/625\u001b[0m \u001b[32m━━━━━━━━━━━━━━━━━━━━\u001b[0m\u001b[37m\u001b[0m \u001b[1m82s\u001b[0m 96ms/step - accuracy: 0.8757 - loss: 0.2918 - val_accuracy: 0.8640 - val_loss: 0.3261\n",
      "Epoch 6/20\n",
      "\u001b[1m625/625\u001b[0m \u001b[32m━━━━━━━━━━━━━━━━━━━━\u001b[0m\u001b[37m\u001b[0m \u001b[1m61s\u001b[0m 97ms/step - accuracy: 0.8870 - loss: 0.2719 - val_accuracy: 0.8636 - val_loss: 0.3292\n",
      "Epoch 7/20\n",
      "\u001b[1m625/625\u001b[0m \u001b[32m━━━━━━━━━━━━━━━━━━━━\u001b[0m\u001b[37m\u001b[0m \u001b[1m83s\u001b[0m 99ms/step - accuracy: 0.9005 - loss: 0.2455 - val_accuracy: 0.8648 - val_loss: 0.3248\n",
      "Epoch 8/20\n",
      "\u001b[1m625/625\u001b[0m \u001b[32m━━━━━━━━━━━━━━━━━━━━\u001b[0m\u001b[37m\u001b[0m \u001b[1m62s\u001b[0m 99ms/step - accuracy: 0.9092 - loss: 0.2307 - val_accuracy: 0.8756 - val_loss: 0.3195\n",
      "Epoch 9/20\n",
      "\u001b[1m625/625\u001b[0m \u001b[32m━━━━━━━━━━━━━━━━━━━━\u001b[0m\u001b[37m\u001b[0m \u001b[1m84s\u001b[0m 102ms/step - accuracy: 0.9196 - loss: 0.2070 - val_accuracy: 0.8664 - val_loss: 0.3433\n",
      "Epoch 10/20\n",
      "\u001b[1m625/625\u001b[0m \u001b[32m━━━━━━━━━━━━━━━━━━━━\u001b[0m\u001b[37m\u001b[0m \u001b[1m61s\u001b[0m 98ms/step - accuracy: 0.9237 - loss: 0.1947 - val_accuracy: 0.8686 - val_loss: 0.3505\n",
      "Epoch 11/20\n",
      "\u001b[1m625/625\u001b[0m \u001b[32m━━━━━━━━━━━━━━━━━━━━\u001b[0m\u001b[37m\u001b[0m \u001b[1m82s\u001b[0m 98ms/step - accuracy: 0.9327 - loss: 0.1784 - val_accuracy: 0.8690 - val_loss: 0.3408\n",
      "Epoch 12/20\n",
      "\u001b[1m625/625\u001b[0m \u001b[32m━━━━━━━━━━━━━━━━━━━━\u001b[0m\u001b[37m\u001b[0m \u001b[1m61s\u001b[0m 97ms/step - accuracy: 0.9363 - loss: 0.1693 - val_accuracy: 0.8608 - val_loss: 0.3974\n",
      "Epoch 13/20\n",
      "\u001b[1m625/625\u001b[0m \u001b[32m━━━━━━━━━━━━━━━━━━━━\u001b[0m\u001b[37m\u001b[0m \u001b[1m61s\u001b[0m 97ms/step - accuracy: 0.9449 - loss: 0.1503 - val_accuracy: 0.8628 - val_loss: 0.3916\n",
      "Epoch 14/20\n",
      "\u001b[1m625/625\u001b[0m \u001b[32m━━━━━━━━━━━━━━━━━━━━\u001b[0m\u001b[37m\u001b[0m \u001b[1m62s\u001b[0m 99ms/step - accuracy: 0.9512 - loss: 0.1300 - val_accuracy: 0.8650 - val_loss: 0.4478\n",
      "Epoch 15/20\n",
      "\u001b[1m625/625\u001b[0m \u001b[32m━━━━━━━━━━━━━━━━━━━━\u001b[0m\u001b[37m\u001b[0m \u001b[1m79s\u001b[0m 95ms/step - accuracy: 0.9596 - loss: 0.1159 - val_accuracy: 0.8604 - val_loss: 0.4595\n",
      "Epoch 16/20\n",
      "\u001b[1m625/625\u001b[0m \u001b[32m━━━━━━━━━━━━━━━━━━━━\u001b[0m\u001b[37m\u001b[0m \u001b[1m81s\u001b[0m 93ms/step - accuracy: 0.9645 - loss: 0.1012 - val_accuracy: 0.8604 - val_loss: 0.4676\n",
      "Epoch 17/20\n",
      "\u001b[1m625/625\u001b[0m \u001b[32m━━━━━━━━━━━━━━━━━━━━\u001b[0m\u001b[37m\u001b[0m \u001b[1m80s\u001b[0m 91ms/step - accuracy: 0.9695 - loss: 0.0900 - val_accuracy: 0.8540 - val_loss: 0.4864\n",
      "Epoch 18/20\n",
      "\u001b[1m625/625\u001b[0m \u001b[32m━━━━━━━━━━━━━━━━━━━━\u001b[0m\u001b[37m\u001b[0m \u001b[1m58s\u001b[0m 92ms/step - accuracy: 0.9718 - loss: 0.0770 - val_accuracy: 0.8598 - val_loss: 0.5218\n",
      "Epoch 19/20\n",
      "\u001b[1m625/625\u001b[0m \u001b[32m━━━━━━━━━━━━━━━━━━━━\u001b[0m\u001b[37m\u001b[0m \u001b[1m79s\u001b[0m 88ms/step - accuracy: 0.9763 - loss: 0.0689 - val_accuracy: 0.8556 - val_loss: 0.5566\n",
      "Epoch 20/20\n",
      "\u001b[1m625/625\u001b[0m \u001b[32m━━━━━━━━━━━━━━━━━━━━\u001b[0m\u001b[37m\u001b[0m \u001b[1m81s\u001b[0m 85ms/step - accuracy: 0.9797 - loss: 0.0607 - val_accuracy: 0.8536 - val_loss: 0.6070\n"
     ]
    },
    {
     "data": {
      "text/plain": [
       "<keras.src.callbacks.history.History at 0x78a43241dd20>"
      ]
     },
     "execution_count": 27,
     "metadata": {},
     "output_type": "execute_result"
    }
   ],
   "source": [
    "model.fit(int_train_ds, validation_data=int_val_ds, epochs=20, callbacks=callbacks)"
   ]
  },
  {
   "cell_type": "code",
   "execution_count": 28,
   "metadata": {
    "colab": {
     "base_uri": "https://localhost:8080/"
    },
    "id": "zvMcW_H6lsF3",
    "outputId": "96e0f85d-6651-44d6-d0e2-50a578ff8309"
   },
   "outputs": [
    {
     "name": "stderr",
     "output_type": "stream",
     "text": [
      "/usr/local/lib/python3.10/dist-packages/keras/src/layers/layer.py:372: UserWarning: `build()` was called on layer 'transformer_encoder', however the layer does not have a `build()` method implemented and it looks like it has unbuilt state. This will cause the layer to be marked as built, despite not being actually built, which may cause failures down the line. Make sure to implement a proper `build()` method.\n",
      "  warnings.warn(\n"
     ]
    },
    {
     "name": "stdout",
     "output_type": "stream",
     "text": [
      "\u001b[1m782/782\u001b[0m \u001b[32m━━━━━━━━━━━━━━━━━━━━\u001b[0m\u001b[37m\u001b[0m \u001b[1m14s\u001b[0m 17ms/step - accuracy: 0.8649 - loss: 0.3281\n",
      "Test acc: 0.866\n"
     ]
    }
   ],
   "source": [
    "model = keras.models.load_model(\n",
    "    \"transformer_encoder.keras\",\n",
    "    custom_objects={\"TransformerEncoder\": TransformerEncoder})\n",
    "print(f\"Test acc: {model.evaluate(int_test_ds)[1]:.3f}\")"
   ]
  },
  {
   "cell_type": "code",
   "execution_count": 29,
   "metadata": {
    "id": "GghqddlxlxDb"
   },
   "outputs": [],
   "source": [
    "# Implementing positional embedding as a subclassed layer"
   ]
  },
  {
   "cell_type": "code",
   "execution_count": null,
   "metadata": {
    "id": "FPDM5yw7peqq"
   },
   "outputs": [],
   "source": []
  }
 ],
 "metadata": {
  "accelerator": "GPU",
  "colab": {
   "gpuType": "T4",
   "provenance": []
  },
  "kernelspec": {
   "display_name": "Python 3 (ipykernel)",
   "language": "python",
   "name": "python3"
  },
  "language_info": {
   "codemirror_mode": {
    "name": "ipython",
    "version": 3
   },
   "file_extension": ".py",
   "mimetype": "text/x-python",
   "name": "python",
   "nbconvert_exporter": "python",
   "pygments_lexer": "ipython3",
   "version": "3.12.4"
  }
 },
 "nbformat": 4,
 "nbformat_minor": 4
}
